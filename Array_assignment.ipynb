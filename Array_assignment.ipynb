{
 "cells": [
  {
   "cell_type": "code",
   "execution_count": 1,
   "id": "68ab9d33",
   "metadata": {},
   "outputs": [],
   "source": [
    "def find_combinations(array, target,count):\n",
    "    results=[]\n",
    "    combination=[0]*count\n",
    "    array.sort()\n",
    "    find_combinations_helper(array, target, count,0,combination,results)\n",
    "    return results\n",
    "\n",
    "def find_combinations_helper(array, target,count,start,combination,results):\n",
    "    if count==0 and target==0:\n",
    "        results.append(combination.copy())\n",
    "        return\n",
    "    if count==0 or target < 0:\n",
    "        return\n",
    "    for i in range(start,len(array)):\n",
    "        combination[count - 1]=array[i]\n",
    "        find_combinations_helper(array, target - array[i],count - 1, i,combination,results)"
   ]
  },
  {
   "cell_type": "code",
   "execution_count": 8,
   "id": "cd6d6904",
   "metadata": {},
   "outputs": [
    {
     "name": "stdout",
     "output_type": "stream",
     "text": [
      "combination for '4' : [[3, 1], [2, 2], [8, -4]]\n",
      "Merge into a single array : [-6, -4, -2, 1, 2, 2, 3, 8]\n",
      "[[8, 8, -2, -6], [8, 3, 3, -6], [8, 8, -4, -4], [8, 3, 1, -4], [8, 2, 2, -4], [8, 2, 2, -4], [8, 2, 2, -4], [8, 1, 1, -2], [3, 3, 1, 1], [3, 2, 2, 1], [3, 2, 2, 1], [3, 2, 2, 1], [2, 2, 2, 2], [2, 2, 2, 2], [2, 2, 2, 2], [2, 2, 2, 2], [2, 2, 2, 2]]\n"
     ]
    }
   ],
   "source": [
    "def array(num,target):\n",
    "    num_dict ={}\n",
    "    result =[]\n",
    "    \n",
    "    for x in num:\n",
    "        compliment=target-x\n",
    "        if compliment in num_dict:\n",
    "            result.append([x,compliment])\n",
    "        num_dict[x]=True\n",
    "    return result\n",
    "num=[1,3,2,2,-4,-6,-2,8]\n",
    "target=4\n",
    "\n",
    "comb1=array(num,target)\n",
    "print(\"combination for '4' :\",comb1)\n",
    "\n",
    "#merging and sorting the array\n",
    "def merge_sort(array):\n",
    "    if len(array)<=1:\n",
    "        return array\n",
    "    mid_value=len(array)//2\n",
    "    left=merge_sort(array[:mid_value])\n",
    "    right=merge_sort(array[mid_value:])\n",
    "    return merge(left,right)\n",
    "\n",
    "def merge(left,right):\n",
    "    merged_val=[]\n",
    "    i=j=0\n",
    "    while i<len(left) and j<len(right):\n",
    "        if left[i]<right[j]:\n",
    "            merged_val.append(left[i])\n",
    "            i=i+1\n",
    "        else:\n",
    "            merged_val.append(right[j])\n",
    "            j=j+1\n",
    "    merged_val.extend(left[i:])\n",
    "    merged_val.extend(right[j:])\n",
    "    return merged_val\n",
    "\n",
    "merged_array=merge_sort(num)\n",
    "print(\"Merge into a single array :\",merged_array)\n",
    "\n",
    "\n",
    "#Second combination for double value of a target value\n",
    "\n",
    "array=[1,3,2,2,-4,-6,-2,8]\n",
    "target=target*2\n",
    "count=4\n",
    "\n",
    "def find_combinations(array, target, count):\n",
    "    results = []\n",
    "    combination = [0] * count\n",
    "    array.sort()\n",
    "    find_combinations_helper(array, target, count, 0, combination, results)\n",
    "    return results\n",
    "\n",
    "def find_combinations_helper(array, target, count, start, combination, results):\n",
    "    if count == 0 and target == 0:\n",
    "        results.append(combination.copy())\n",
    "        return\n",
    "    if count == 0 or target < 0:\n",
    "        return\n",
    "    for i in range(start, len(array)):\n",
    "        combination[count - 1] = array[i]\n",
    "        find_combinations_helper(array, target - array[i], count - 1, i, combination, results)\n",
    "\n",
    "combinations = find_combinations(array, target, count)\n",
    "print(combinations)"
   ]
  },
  {
   "cell_type": "code",
   "execution_count": null,
   "id": "64d6a19b",
   "metadata": {},
   "outputs": [],
   "source": []
  }
 ],
 "metadata": {
  "kernelspec": {
   "display_name": "Python 3 (ipykernel)",
   "language": "python",
   "name": "python3"
  },
  "language_info": {
   "codemirror_mode": {
    "name": "ipython",
    "version": 3
   },
   "file_extension": ".py",
   "mimetype": "text/x-python",
   "name": "python",
   "nbconvert_exporter": "python",
   "pygments_lexer": "ipython3",
   "version": "3.9.13"
  }
 },
 "nbformat": 4,
 "nbformat_minor": 5
}
